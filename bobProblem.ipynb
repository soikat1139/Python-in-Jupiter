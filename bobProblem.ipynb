{
  "cells": [
    {
      "cell_type": "code",
      "execution_count": null,
      "metadata": {},
      "outputs": [],
      "source": [
        "#The problem is that there is a list of numbers sorted on decreasing orders all I neeed to is find the query number in the best optimal way .\n",
        "#So here is how I want to solve this problem :\n",
        "# I can actually use Linear Search Algorithm which is like brute force like going through every element of the list\n",
        "\n",
        "\n",
        "#So Let Me make some test cases"
      ]
    },
    {
      "cell_type": "code",
      "execution_count": 1,
      "metadata": {
        "trusted": true
      },
      "outputs": [],
      "source": [
        "test={\n",
        "    \n",
        "    \"input\":{\n",
        "        \"cards\":[35,17,15,13,7,5,4,2],\n",
        "        \"query\":7\n",
        "    },\n",
        "    \"output\":4\n",
        "}\n"
      ]
    },
    {
      "cell_type": "code",
      "execution_count": 7,
      "metadata": {
        "trusted": true
      },
      "outputs": [],
      "source": [
        "#Let's make a lot more test cases first of all let's understand what is input and what is output  ?\n",
        "#Let's make an array of test caseses\n",
        "\n",
        "tests=[]\n",
        "\n",
        "\n",
        "tests.append(test)\n",
        "\n",
        "\n",
        "#What if test case contain zero input\n",
        "\n",
        "\n",
        "\n",
        "tests.append({\n",
        "      \"input\":{\n",
        "          \n",
        "          \"cards\":[],\n",
        "          \"query\":5 \n",
        "          \n",
        "          \n",
        "      },\n",
        "    \"output\":-1\n",
        "})\n",
        "\n",
        "#What if query ixs not in the card \n",
        "\n",
        "\n",
        "tests.append({\n",
        "    \n",
        "    \"input\":{\n",
        "        \n",
        "        \"cards\":[15,15,7,6,5,4,2,1],\n",
        "        \"query\":20\n",
        "    \n",
        "    },\n",
        "    \"output\":-1\n",
        "\n",
        "})\n",
        "\n",
        "#What  if there are several repetative integer in the cards ::: Well in that case I should actually consider the first mached position :so let's make another test case\n",
        "\n",
        "\n",
        "\n",
        "tests.append({\n",
        "    \n",
        "    \"input\":{\n",
        "     \"cards\":[45,35,35,30,25,25,20,15,10,8,1],\n",
        "        \"query\":25\n",
        "    \n",
        "    },\n",
        "    \"output\":4\n",
        "})\n",
        "\n",
        "\n",
        "\n",
        "#What if the cards  are completetly negative integers\n",
        "\n",
        "\n",
        "tests.append({\n",
        "     \"input\":{\n",
        "         \"cards\":[-10,-20,-30,-35,-55,-60,-120],\n",
        "         \"query\":-20\n",
        "     \n",
        "     \n",
        "     \n",
        "     },\n",
        "    \n",
        "    \"output\":1\n",
        "\n",
        "\n",
        "})\n",
        "\n",
        "\n"
      ]
    },
    {
      "cell_type": "code",
      "execution_count": 9,
      "metadata": {
        "trusted": true
      },
      "outputs": [],
      "source": [
        "\n",
        "#Now let's actually think abot the code first in plain English\n",
        "\n",
        "\n",
        "def find_cards(cards,query):\n",
        "    position=0\n",
        "    \n",
        "    print(cards)\n",
        "    \n",
        "    print(len(cards))\n",
        "    \n",
        "    while position<len(cards):\n",
        "        print(cards[position])\n",
        "        if cards[position]==query:\n",
        "            return position\n",
        "        position+=1\n",
        "    return -1    \n",
        "      \n",
        "\n",
        "\n",
        "\n",
        "\n",
        "\n",
        "\n",
        "\n",
        "\n",
        "\n",
        "\n",
        "\n",
        "\n",
        "\n",
        "\n",
        "\n",
        "\n",
        "\n"
      ]
    },
    {
      "cell_type": "code",
      "execution_count": 10,
      "metadata": {
        "trusted": true
      },
      "outputs": [
        {
          "name": "stdout",
          "output_type": "stream",
          "text": [
            "[35, 17, 15, 13, 7, 5, 4, 2]\n",
            "8\n",
            "35\n",
            "17\n",
            "15\n",
            "13\n",
            "7\n",
            "4\n"
          ]
        }
      ],
      "source": [
        "\n",
        "\n",
        "result=find_cards([35,17,15,13,7,5,4,2],7)\n",
        "\n",
        "print(result)\n",
        "\n",
        "\n",
        "\n",
        "\n",
        "\n",
        "\n",
        "\n",
        "\n",
        "\n",
        "\n",
        "\n",
        "\n",
        "\n",
        "\n",
        "\n",
        "\n",
        "\n",
        "\n",
        "\n",
        "\n"
      ]
    },
    {
      "cell_type": "code",
      "execution_count": 11,
      "metadata": {
        "trusted": true
      },
      "outputs": [
        {
          "name": "stdout",
          "output_type": "stream",
          "text": [
            "[35, 17, 15, 13, 7, 5, 4, 2]\n",
            "8\n",
            "35\n",
            "17\n",
            "15\n",
            "13\n",
            "7\n",
            "True\n",
            "[]\n",
            "0\n",
            "True\n",
            "[15, 15, 7, 6, 5, 4, 2, 1]\n",
            "8\n",
            "15\n",
            "15\n",
            "7\n",
            "6\n",
            "5\n",
            "4\n",
            "2\n",
            "1\n",
            "True\n",
            "[45, 35, 35, 30, 25, 25, 20, 15, 10, 8, 1]\n",
            "11\n",
            "45\n",
            "35\n",
            "35\n",
            "30\n",
            "25\n",
            "True\n",
            "[-10, -20, -30, -35, -55, -60, -120]\n",
            "7\n",
            "-10\n",
            "-20\n",
            "True\n"
          ]
        }
      ],
      "source": [
        "for test in tests:\n",
        "    result=find_cards(test[\"input\"][\"cards\"],test[\"input\"][\"query\"])\n",
        "    print(result==test[\"output\"])\n",
        "    \n",
        "\n",
        "\n",
        "\n",
        "\n",
        "\n",
        "\n"
      ]
    },
    {
      "cell_type": "code",
      "execution_count": null,
      "metadata": {},
      "outputs": [],
      "source": [
        "import math"
      ]
    },
    {
      "cell_type": "code",
      "execution_count": null,
      "metadata": {},
      "outputs": [],
      "source": [
        "# Let's solve this problem with binary search algorithm:\n",
        "#What binary search algorithm states is that you  take a middle point on the list and then actually check if it's bigger than the query if it;s bigger thanthe \n",
        "\n",
        "\n",
        "a_list=[16,15,12,3,1]\n",
        "\n",
        "def find_cards_withB(cards,query):\n",
        "    position=math.ceil(len(cards)/2)\n",
        "    if cards[position]>query:\n",
        "        position=math.ceil(position/2)\n",
        "        if cards[-position]==query:\n",
        "            return position\n",
        "    elif cards[position]<query:\n",
        "        pass\n",
        "    elif cards[position]==query:\n",
        "        return position\n",
        "    else:\n",
        "        return -1\n",
        "\n"
      ]
    },
    {
      "cell_type": "code",
      "execution_count": 3,
      "metadata": {},
      "outputs": [
        {
          "name": "stdout",
          "output_type": "stream",
          "text": [
            "3.5\n"
          ]
        }
      ],
      "source": [
        "rst=7//2\n",
        "print(rst)"
      ]
    },
    {
      "cell_type": "code",
      "execution_count": 15,
      "metadata": {},
      "outputs": [],
      "source": [
        "def find_Local(cards,query):\n",
        "    lo=0\n",
        "    hi=len(cards)-1\n",
        "\n",
        "    while lo<=hi:\n",
        "        midPoint=(lo+hi)//2\n",
        "\n",
        "        midCard=cards[midPoint]\n",
        "\n",
        "        print(\"low:\", lo , \"high: \" ,hi ,\"midCard: \", midCard ,\"midPoint\", midPoint)\n",
        "\n",
        "        if midCard==query:\n",
        "            return midPoint\n",
        "        elif midCard<query:\n",
        "            hi=midPoint-1\n",
        "        elif midCard>query:\n",
        "\n",
        "            lo=midPoint+1\n",
        "\n",
        "    return -1        \n",
        "\n",
        "\n",
        "\n",
        "\n"
      ]
    },
    {
      "cell_type": "code",
      "execution_count": 16,
      "metadata": {},
      "outputs": [
        {
          "name": "stdout",
          "output_type": "stream",
          "text": [
            "low: 0 high:  7 midCard:  7 midPoint 3\n",
            "low: 4 high:  7 midCard:  3 midPoint 5\n",
            "low: 6 high:  7 midCard:  1 midPoint 6\n",
            "6\n"
          ]
        }
      ],
      "source": [
        "print(find_Local([13,11,10,7,4,3,1,0],1))"
      ]
    },
    {
      "cell_type": "code",
      "execution_count": 26,
      "metadata": {},
      "outputs": [],
      "source": [
        "def test_Location(cards,query,midPoint):\n",
        "    midCard=cards[midPoint]\n",
        "\n",
        "\n",
        "    if midCard==query:\n",
        "\n",
        "        if midPoint-1>0 and cards[midPoint-1]==query:\n",
        "            return \"left\"\n",
        "        else:\n",
        "            return \"found\"\n",
        "    elif midCard<query:\n",
        "        return \"left\"\n",
        "    elif midCard>query:\n",
        "        return 'right'\n",
        "        \n",
        "\n",
        "\n"
      ]
    },
    {
      "cell_type": "code",
      "execution_count": 27,
      "metadata": {},
      "outputs": [],
      "source": [
        "def final_code(cards,query):\n",
        "    lo=0\n",
        "    hi=len(cards)-1\n",
        "\n",
        "    while lo<=hi:\n",
        "        midPoint=(lo+hi)//2\n",
        "        test=test_Location(cards,query,midPoint)\n",
        "\n",
        "        print(test)\n",
        "\n",
        "        if test==\"found\":\n",
        "            return midPoint\n",
        "        elif test==\"left\":\n",
        "            hi=midPoint-1\n",
        "        elif test==\"right\":\n",
        "            lo=midPoint+1\n",
        "    return -1\n",
        "\n",
        "        \n",
        "\n",
        "        "
      ]
    },
    {
      "cell_type": "code",
      "execution_count": 28,
      "metadata": {},
      "outputs": [
        {
          "name": "stdout",
          "output_type": "stream",
          "text": [
            "right\n",
            "right\n",
            "found\n",
            "6\n"
          ]
        }
      ],
      "source": [
        "print(final_code([13,11,10,7,4,3,1,0],1))"
      ]
    }
  ],
  "metadata": {
    "kernelspec": {
      "display_name": "Python 3",
      "language": "python",
      "name": "python3"
    },
    "language_info": {
      "codemirror_mode": {
        "name": "ipython",
        "version": 3
      },
      "file_extension": ".py",
      "mimetype": "text/x-python",
      "name": "python",
      "nbconvert_exporter": "python",
      "pygments_lexer": "ipython3",
      "version": "3.11.1"
    },
    "vscode": {
      "interpreter": {
        "hash": "ebfc0a8d552866b0d59eba665220a57de3bc06f3ac643b8bef38dd8f66781fdd"
      }
    }
  },
  "nbformat": 4,
  "nbformat_minor": 4
}
